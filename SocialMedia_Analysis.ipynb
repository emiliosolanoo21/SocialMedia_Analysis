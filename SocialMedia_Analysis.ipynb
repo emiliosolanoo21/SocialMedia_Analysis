{
 "cells": [
  {
   "cell_type": "markdown",
   "metadata": {},
   "source": [
    "Universidad del Valle de Guatemala\n",
    "# Laboratorio 7\n",
    "## Análisis de redes sociales\n",
    "\n",
    "Daniel Valdez - 21240\n",
    "\n",
    "Emilio Solano - 21212"
   ]
  },
  {
   "cell_type": "code",
   "execution_count": 1,
   "metadata": {},
   "outputs": [],
   "source": [
    "import json"
   ]
  },
  {
   "cell_type": "markdown",
   "metadata": {},
   "source": [
    "### Carga de datos"
   ]
  },
  {
   "cell_type": "code",
   "execution_count": 2,
   "metadata": {},
   "outputs": [
    {
     "name": "stdout",
     "output_type": "stream",
     "text": [
      "Se omitió la línea 5605 debido a un error de decodificación.\n",
      "Cantidad de entradas en traficogt: 5604\n",
      "Primera entrada de traficogt: {'id': 1834236045598056867, 'id_str': '1834236045598056867', 'url': 'https://x.com/traficogt/status/1834236045598056867', 'date': '2024-09-12 14:22:06+00:00', 'user': {'id': 93938886, 'id_str': '93938886', 'url': 'https://x.com/traficogt', 'username': 'traficogt', 'displayname': 'traficoGT', 'rawDescription': 'Noticias de ciudad de Guatemala', 'created': '2009-12-01 20:42:19+00:00', 'followersCount': 314368, 'friendsCount': 137, 'statusesCount': 52385, 'favouritesCount': 3471, 'listedCount': 291, 'mediaCount': 1292, 'location': 'Guatemala', 'profileImageUrl': 'https://pbs.twimg.com/profile_images/1782036597841530880/-tVuhOdK_normal.jpg', 'profileBannerUrl': None, 'protected': None, 'verified': False, 'blue': False, 'blueType': None, 'descriptionLinks': [], 'pinnedIds': [], '_type': 'snscrape.modules.twitter.User'}, 'lang': 'es', 'rawContent': 'Es comprensible la resolución... El ruso sabe de engrasar maquinaria.', 'replyCount': 0, 'retweetCount': 0, 'likeCount': 1, 'quoteCount': 0, 'bookmarkedCount': 0, 'conversationId': 1834236045598056867, 'conversationIdStr': '1834236045598056867', 'hashtags': [], 'cashtags': [], 'mentionedUsers': [], 'links': [], 'viewCount': 393, 'retweetedTweet': None, 'quotedTweet': {'id': 1834029142565658846, 'id_str': '1834029142565658846', 'url': 'https://x.com/monymmorales/status/1834029142565658846', 'date': '2024-09-12 00:39:56+00:00', 'user': {'id': 976875408, 'id_str': '976875408', 'url': 'https://x.com/monymmorales', 'username': 'monymmorales', 'displayname': 'Mony', 'rawDescription': 'Iglesia y estado son asunto separado.\\nCatólica \\n#SuMenteMeOlvidó, pero su corazón siempre me recordó.  \\n#Guatemala \\n#DonaciónDeÓrganos\\n\\n#GraciasPorEstar', 'created': '2012-11-28 20:16:36+00:00', 'followersCount': 5502, 'friendsCount': 4887, 'statusesCount': 180436, 'favouritesCount': 274770, 'listedCount': 24, 'mediaCount': 16644, 'location': 'Guatemala #Frijolandia ', 'profileImageUrl': 'https://pbs.twimg.com/profile_images/1810923178228609024/mXrBHHnl_normal.jpg', 'profileBannerUrl': 'https://pbs.twimg.com/profile_banners/976875408/1706033530', 'protected': None, 'verified': False, 'blue': False, 'blueType': None, 'descriptionLinks': [], 'pinnedIds': [1794803010935431533], '_type': 'snscrape.modules.twitter.User'}, 'lang': 'es', 'rawContent': 'La corrupción de la @CC_Guatemala\\nes descarada, falsificación de documentos y obligaron a extenderles DPI.\\nhttps://t.co/0J24ZCXJ2c', 'replyCount': 0, 'retweetCount': 56, 'likeCount': 84, 'quoteCount': 4, 'bookmarkedCount': 1, 'conversationId': 1834029142565658846, 'conversationIdStr': '1834029142565658846', 'hashtags': [], 'cashtags': [], 'mentionedUsers': [{'id': 783345301256073216, 'id_str': '783345301256073216', 'username': 'CC_Guatemala', 'displayname': 'CC Guatemala', '_type': 'snscrape.modules.twitter.UserRef'}], 'links': [{'url': 'https://www.prensalibre.com/guatemala/justicia/la-corte-de-constitucionalidad-ordena-al-renap-que-le-extienda-dpi-a-la-familia-rusa-bitkov-condenados-por-uso-de-documentos-falsos-breaking/', 'text': 'prensalibre.com/guatemala/just…', 'tcourl': 'https://t.co/0J24ZCXJ2c'}], 'viewCount': 1587, 'retweetedTweet': None, 'quotedTweet': None, 'place': None, 'coordinates': None, 'inReplyToTweetId': None, 'inReplyToTweetIdStr': None, 'inReplyToUser': None, 'source': '<a href=\"http://twitter.com/download/android\" rel=\"nofollow\">Twitter for Android</a>', 'sourceUrl': 'http://twitter.com/download/android', 'sourceLabel': 'Twitter for Android', 'media': {'photos': [], 'videos': [], 'animated': []}, 'card': {'title': 'La Corte de Constitucionalidad ordena al Renap que le extienda DPI a la familia rusa Bitkov,...', 'description': 'El Registro Nacional de las Personas (Renap) deberá otorgar un Código Único de Identificación (CUI) y emitir un nuevo Documento Personal de Identidad \\xa0(DPI) Especial de Mayor de Edad Reconocido Baj…', 'vanityUrl': 'prensalibre.com', 'url': 'https://t.co/0J24ZCXJ2c', 'photo': {'url': 'https://pbs.twimg.com/card_img/1834028955176677377/5aXD1dWE?format=jpg&name=orig'}, 'video': None, '_type': 'summary'}, '_type': 'snscrape.modules.twitter.Tweet'}, 'place': None, 'coordinates': None, 'inReplyToTweetId': None, 'inReplyToTweetIdStr': None, 'inReplyToUser': None, 'source': '<a href=\"http://twitter.com/download/android\" rel=\"nofollow\">Twitter for Android</a>', 'sourceUrl': 'http://twitter.com/download/android', 'sourceLabel': 'Twitter for Android', 'media': {'photos': [], 'videos': [], 'animated': []}, 'card': None, '_type': 'snscrape.modules.twitter.Tweet'}\n"
     ]
    }
   ],
   "source": [
    "traficogt_data = []\n",
    "with open('traficogt.txt', 'r', encoding='utf-16') as f:\n",
    "    for line_number, line in enumerate(f, start=1):\n",
    "        try:\n",
    "            traficogt_data.append(json.loads(line))\n",
    "        except json.JSONDecodeError:\n",
    "            print(f\"Se omitió la línea {line_number} debido a un error de decodificación.\")\n",
    "\n",
    "print(\"Cantidad de entradas en traficogt:\", len(traficogt_data))\n",
    "print(\"Primera entrada de traficogt:\", traficogt_data[0] if traficogt_data else \"Sin datos\")"
   ]
  },
  {
   "cell_type": "code",
   "execution_count": 3,
   "metadata": {},
   "outputs": [
    {
     "name": "stdout",
     "output_type": "stream",
     "text": [
      "Cantidad de entradas en tioberny: 5019\n",
      "Primera entrada de tioberny: {'id': 1834281080029110288, 'id_str': '1834281080029110288', 'url': 'https://x.com/La_ReVoluZzion/status/1834281080029110288', 'date': '2024-09-12 17:21:03+00:00', 'user': {'id': 1435062946598694914, 'id_str': '1435062946598694914', 'url': 'https://x.com/La_ReVoluZzion', 'username': 'La_ReVoluZzion', 'displayname': 'The_ReVoluZZzioN 🫡', 'rawDescription': '¡Defensor de los defensores de los DDHH, PRO-LGBTIXXX🏳️\\u200d🌈 y demás sub especies!', 'created': '2021-09-07 02:11:21+00:00', 'followersCount': 2102, 'friendsCount': 531, 'statusesCount': 51984, 'favouritesCount': 143086, 'listedCount': 7, 'mediaCount': 18100, 'location': 'Cuba 🇨🇺', 'profileImageUrl': 'https://pbs.twimg.com/profile_images/1741646608679268353/M8PgJYKR_normal.jpg', 'profileBannerUrl': 'https://pbs.twimg.com/profile_banners/1435062946598694914/1680473492', 'protected': None, 'verified': False, 'blue': False, 'blueType': None, 'descriptionLinks': [], 'pinnedIds': [1758120995683012760], '_type': 'snscrape.modules.twitter.User'}, 'lang': 'es', 'rawContent': '_\\nConfirmado Compañeres,\\n\\nEl impuesto por la @usembassyguate,\\n—Solo cuenta con el pagado apoyo de los @48CantonesToto a través de la @USAIDGuate y @UEGuatemala\\n\\n@BArevalodeLeon huye y se esconde del Verdadero Pueblo Guatemalteco.', 'replyCount': 0, 'retweetCount': 0, 'likeCount': 0, 'quoteCount': 0, 'bookmarkedCount': 0, 'conversationId': 1834281080029110288, 'conversationIdStr': '1834281080029110288', 'hashtags': [], 'cashtags': [], 'mentionedUsers': [{'id': 23664866, 'id_str': '23664866', 'username': 'usembassyguate', 'displayname': 'US Embassy Guatemala', '_type': 'snscrape.modules.twitter.UserRef'}, {'id': 1001171061831020545, 'id_str': '1001171061831020545', 'username': '48CantonesToto', 'displayname': '48 Cantones Oficial', '_type': 'snscrape.modules.twitter.UserRef'}, {'id': 262691982, 'id_str': '262691982', 'username': 'USAIDGuate', 'displayname': 'USAID Guatemala', '_type': 'snscrape.modules.twitter.UserRef'}, {'id': 1362391326, 'id_str': '1362391326', 'username': 'UEGuatemala', 'displayname': 'Unión Europea en Guatemala', '_type': 'snscrape.modules.twitter.UserRef'}, {'id': 945378369818058752, 'id_str': '945378369818058752', 'username': 'BArevalodeLeon', 'displayname': 'Bernardo Arévalo', '_type': 'snscrape.modules.twitter.UserRef'}], 'links': [], 'viewCount': None, 'retweetedTweet': None, 'quotedTweet': {'id': 1834252464092069901, 'id_str': '1834252464092069901', 'url': 'https://x.com/XelaNewsGt/status/1834252464092069901', 'date': '2024-09-12 15:27:20+00:00', 'user': {'id': 956650778634145792, 'id_str': '956650778634145792', 'url': 'https://x.com/XelaNewsGt', 'username': 'XelaNewsGt', 'displayname': 'XelaNews', 'rawDescription': 'Noticias sin injerencias.', 'created': '2018-01-25 22:11:34+00:00', 'followersCount': 3462, 'friendsCount': 359, 'statusesCount': 2915, 'favouritesCount': 5717, 'listedCount': 3, 'mediaCount': 1132, 'location': 'Guatemala', 'profileImageUrl': 'https://pbs.twimg.com/profile_images/1795602273034199040/B_YZsc0K_normal.jpg', 'profileBannerUrl': 'https://pbs.twimg.com/profile_banners/956650778634145792/1704817554', 'protected': None, 'verified': False, 'blue': False, 'blueType': None, 'descriptionLinks': [], 'pinnedIds': [], '_type': 'snscrape.modules.twitter.User'}, 'lang': 'es', 'rawContent': '#URGENTE Lo que los medios #faferos no informaron ayer, acerca de la visita del presidente #BernardoArévalo a #NebajQuiché, donde fue sacado a toda prisa por #SAAS ya que  manifestantes pedían ser escuchados por el mandatario, quien decidió huir de esta manera.\\n#XelaNews 🇫🇷 https://t.co/UQQbnvlfTa', 'replyCount': 12, 'retweetCount': 80, 'likeCount': 142, 'quoteCount': 15, 'bookmarkedCount': 10, 'conversationId': 1834252464092069901, 'conversationIdStr': '1834252464092069901', 'hashtags': ['URGENTE', 'faferos', 'BernardoArévalo', 'NebajQuiché', 'SAAS', 'XelaNews'], 'cashtags': [], 'mentionedUsers': [], 'links': [], 'viewCount': 5200, 'retweetedTweet': None, 'quotedTweet': None, 'place': None, 'coordinates': None, 'inReplyToTweetId': None, 'inReplyToTweetIdStr': None, 'inReplyToUser': None, 'source': '<a href=\"https://mobile.twitter.com\" rel=\"nofollow\">Twitter Web App</a>', 'sourceUrl': 'https://mobile.twitter.com', 'sourceLabel': 'Twitter Web App', 'media': {'photos': [], 'videos': [{'thumbnailUrl': 'https://pbs.twimg.com/ext_tw_video_thumb/1834251047067336704/pu/img/G5OBbEag4Ia9XjV8.jpg', 'variants': [{'contentType': 'video/mp4', 'bitrate': 256000, 'url': 'https://video.twimg.com/ext_tw_video/1834251047067336704/pu/vid/avc1/480x270/A6PltNzh5wADruCV.mp4?tag=12'}, {'contentType': 'video/mp4', 'bitrate': 832000, 'url': 'https://video.twimg.com/ext_tw_video/1834251047067336704/pu/vid/avc1/640x360/r4dgFMAS7UmJH7Sq.mp4?tag=12'}, {'contentType': 'video/mp4', 'bitrate': 2176000, 'url': 'https://video.twimg.com/ext_tw_video/1834251047067336704/pu/vid/avc1/1280x720/uQimLwqwxzqBctLM.mp4?tag=12'}], 'duration': 104904, 'views': None}], 'animated': []}, 'card': None, '_type': 'snscrape.modules.twitter.Tweet'}, 'place': None, 'coordinates': None, 'inReplyToTweetId': None, 'inReplyToTweetIdStr': None, 'inReplyToUser': None, 'source': '<a href=\"http://twitter.com/download/android\" rel=\"nofollow\">Twitter for Android</a>', 'sourceUrl': 'http://twitter.com/download/android', 'sourceLabel': 'Twitter for Android', 'media': {'photos': [], 'videos': [], 'animated': []}, 'card': None, '_type': 'snscrape.modules.twitter.Tweet'}\n"
     ]
    }
   ],
   "source": [
    "tioberny_data = []\n",
    "with open('tioberny.txt', 'r', encoding='utf-16') as f:\n",
    "    for line_number, line in enumerate(f, start=1):\n",
    "        try:\n",
    "            tioberny_data.append(json.loads(line))\n",
    "        except json.JSONDecodeError:\n",
    "            print(f\"Se omitió la línea {line_number} debido a un error de decodificación.\")\n",
    "\n",
    "print(\"Cantidad de entradas en tioberny:\", len(tioberny_data))\n",
    "print(\"Primera entrada de tioberny:\", tioberny_data[0] if tioberny_data else \"Sin datos\")"
   ]
  },
  {
   "cell_type": "markdown",
   "metadata": {},
   "source": [
    "### Análisis de tweets"
   ]
  },
  {
   "cell_type": "code",
   "execution_count": 10,
   "metadata": {},
   "outputs": [],
   "source": [
    "def analyze_tweets(data, source_name):\n",
    "    print(f\"\\nAnálisis de tweets de {source_name}:\")\n",
    "    print(f\"Cantidad de entradas: {len(data)}\")\n",
    "    \n",
    "    if data:\n",
    "        print(\"Ejemplos de contenido de tweets:\")\n",
    "        for tweet in data[:5]:  # Muestra los primeros 5 tweets\n",
    "            print(f\"User: {tweet['user']['username']} | Tweet: {tweet['rawContent']}\\n\")"
   ]
  },
  {
   "cell_type": "code",
   "execution_count": 11,
   "metadata": {},
   "outputs": [
    {
     "name": "stdout",
     "output_type": "stream",
     "text": [
      "\n",
      "Análisis de tweets de traficogt:\n",
      "Cantidad de entradas: 5604\n",
      "Ejemplos de contenido de tweets:\n",
      "User: traficogt | Tweet: Es comprensible la resolución... El ruso sabe de engrasar maquinaria.\n",
      "\n",
      "User: monymmorales | Tweet: La corrupción de la @CC_Guatemala\n",
      "es descarada, falsificación de documentos y obligaron a extenderles DPI.\n",
      "https://t.co/0J24ZCXJ2c\n",
      "\n",
      "User: animaldgalaccia | Tweet: @PNCdeGuatemala @mingobguate @FJimenezmingob @diegoedeleon @amilcarmontejo @traficogt \n",
      "\n",
      "🚨🚨🚨🚨🚨\n",
      "\n",
      "User: EstacionDobleA | Tweet: @amilcarmontejo @AztecaNoticiaGT @BancadaSemilla @BArevalodeLeon @diputadojp @EmisorasUnidas @eP_investiga @ImpactoNoticiGT @lahoragt @mingobguate @PrensaComunitar @Transito_mixco @DGTguate @PMT_VILLANUEVA @InfoTransitoGt @traficogt @PMT_SanJuanSac @PMTSanLucasSac @YenerPlaza\n",
      "\n",
      "User: CubReserva | Tweet: @soy_502 @AztecaNoticiaGT @CONAPgt @DenunciaEMPAGUA @muniguate @GuatemalaGob @Guatevision_tv @pattyo502 @karinapazGt @Josechic86 @vecinosz16 URGENTE zona 16 en deterioro por  tala inmoderada, el tráfico es desesperante @traficogt @EmisorasUnidas @eP_investiga @IsaPaiz_\n",
      "\n"
     ]
    }
   ],
   "source": [
    "analyze_tweets(traficogt_data, \"traficogt\")"
   ]
  },
  {
   "cell_type": "code",
   "execution_count": 15,
   "metadata": {},
   "outputs": [
    {
     "name": "stdout",
     "output_type": "stream",
     "text": [
      "\n",
      "Análisis de tweets de tioberny:\n",
      "Cantidad de entradas: 5019\n",
      "Ejemplos de contenido de tweets:\n",
      "User: La_ReVoluZzion | Tweet: _\n",
      "Confirmado Compañeres,\n",
      "\n",
      "El impuesto por la @usembassyguate,\n",
      "—Solo cuenta con el pagado apoyo de los @48CantonesToto a través de la @USAIDGuate y @UEGuatemala\n",
      "\n",
      "@BArevalodeLeon huye y se esconde del Verdadero Pueblo Guatemalteco.\n",
      "\n",
      "User: XelaNewsGt | Tweet: #URGENTE Lo que los medios #faferos no informaron ayer, acerca de la visita del presidente #BernardoArévalo a #NebajQuiché, donde fue sacado a toda prisa por #SAAS ya que  manifestantes pedían ser escuchados por el mandatario, quien decidió huir de esta manera.\n",
      "#XelaNews 🇫🇷 https://t.co/UQQbnvlfTa\n",
      "\n",
      "User: M24095273 | Tweet: @IvanDuque @BArevalodeLeon Con que usaste PEGASUS para espiar a tus detractores! obra de un narcisista sin conciencia, buena pinta por fuera corazon negro y podrido por dentro sin alma\n",
      "\n",
      "User: carlosalbesc | Tweet: @IvanDuque @BArevalodeLeon Entre Ellos se entienden bien, y sÍ están  cuadrando una \"PRODUCTIVA\"reunión.\n",
      "\n",
      "User: Brenda_AGN | Tweet: El presidente @BArevalodeLeon y la vicepresidenta @KarinHerreraVP  participan en la Sesión Solemne en Conmemoración del 203 Aniversario de la Independencia de la República de Guatemala.\n",
      "\n",
      "@AGN_noticias\n",
      "@CongresoGuate https://t.co/zw3c2EqgK7\n",
      "\n"
     ]
    }
   ],
   "source": [
    "analyze_tweets(tioberny_data, \"tioberny\")"
   ]
  },
  {
   "cell_type": "markdown",
   "metadata": {},
   "source": [
    "### Limpieza y Preprocesamiento de Datos"
   ]
  },
  {
   "cell_type": "markdown",
   "metadata": {},
   "source": [
    "#### Conversión a minúsculas"
   ]
  }
 ],
 "metadata": {
  "kernelspec": {
   "display_name": "Python 3",
   "language": "python",
   "name": "python3"
  },
  "language_info": {
   "codemirror_mode": {
    "name": "ipython",
    "version": 3
   },
   "file_extension": ".py",
   "mimetype": "text/x-python",
   "name": "python",
   "nbconvert_exporter": "python",
   "pygments_lexer": "ipython3",
   "version": "3.12.3"
  }
 },
 "nbformat": 4,
 "nbformat_minor": 2
}
